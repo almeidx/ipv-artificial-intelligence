{
 "cells": [
  {
   "cell_type": "markdown",
   "id": "b2282b3c-3f76-4d02-94aa-635a27503e41",
   "metadata": {},
   "source": [
    "# Introduction to Jupyter Notebooks"
   ]
  },
  {
   "cell_type": "code",
   "execution_count": 15,
   "id": "9bdd0b6f-4009-4ce2-b59e-b1cb922e7c6b",
   "metadata": {},
   "outputs": [
    {
     "name": "stdout",
     "output_type": "stream",
     "text": [
      "Hello, World!\n"
     ]
    }
   ],
   "source": [
    "print('Hello, World!')"
   ]
  },
  {
   "cell_type": "code",
   "execution_count": 16,
   "id": "9f8c71cc-340d-4b70-9bd3-63ef499a74d2",
   "metadata": {},
   "outputs": [
    {
     "data": {
      "text/plain": [
       "'a = 123'"
      ]
     },
     "execution_count": 16,
     "metadata": {},
     "output_type": "execute_result"
    }
   ],
   "source": [
    "a = 123\n",
    "f\"a = {a}\""
   ]
  },
  {
   "cell_type": "code",
   "execution_count": 17,
   "id": "98764bf3-cfde-440d-8ac9-6a5fef340461",
   "metadata": {},
   "outputs": [
    {
     "ename": "TypeError",
     "evalue": "'str' object is not callable",
     "output_type": "error",
     "traceback": [
      "\u001b[1;31m---------------------------------------------------------------------------\u001b[0m",
      "\u001b[1;31mTypeError\u001b[0m                                 Traceback (most recent call last)",
      "Cell \u001b[1;32mIn[17], line 2\u001b[0m\n\u001b[0;32m      1\u001b[0m a \u001b[38;5;241m=\u001b[39m \u001b[38;5;241m123\u001b[39m\n\u001b[1;32m----> 2\u001b[0m \u001b[38;5;124m\"\u001b[39m\u001b[38;5;124ma = \u001b[39m\u001b[38;5;124m\"\u001b[39m \u001b[38;5;241m+\u001b[39m \u001b[38;5;28;43mstr\u001b[39;49m\u001b[43m(\u001b[49m\u001b[43ma\u001b[49m\u001b[43m)\u001b[49m\n",
      "\u001b[1;31mTypeError\u001b[0m: 'str' object is not callable"
     ]
    }
   ],
   "source": [
    "a = 123\n",
    "\"a = \" + str(a)"
   ]
  },
  {
   "cell_type": "code",
   "execution_count": null,
   "id": "e11029fb-e61f-42d9-90c5-1c6824ba0209",
   "metadata": {},
   "outputs": [
    {
     "data": {
      "text/plain": [
       "str"
      ]
     },
     "execution_count": 12,
     "metadata": {},
     "output_type": "execute_result"
    }
   ],
   "source": [
    "type(\"abc\")"
   ]
  },
  {
   "cell_type": "code",
   "execution_count": null,
   "id": "cfce4271-9510-4f91-bb59-c7baa9381781",
   "metadata": {},
   "outputs": [
    {
     "data": {
      "text/plain": [
       "(5.2, 'olá', ('1',))"
      ]
     },
     "execution_count": 16,
     "metadata": {},
     "output_type": "execute_result"
    }
   ],
   "source": [
    "a, b, c = 5.2, \"olá\", (\"1\", )\n",
    "a, b, c"
   ]
  },
  {
   "cell_type": "code",
   "execution_count": null,
   "id": "d1b7b075-d7a9-468f-aad9-2f3f98bdd50c",
   "metadata": {},
   "outputs": [
    {
     "data": {
      "text/plain": [
       "True"
      ]
     },
     "execution_count": 18,
     "metadata": {},
     "output_type": "execute_result"
    }
   ],
   "source": [
    "a = 7\n",
    "b = 7.0\n",
    "a == b"
   ]
  },
  {
   "cell_type": "code",
   "execution_count": null,
   "id": "cd12ca1b-a125-4fcd-a089-3e974a0566af",
   "metadata": {
    "scrolled": true
   },
   "outputs": [
    {
     "data": {
      "text/plain": [
       "True"
      ]
     },
     "execution_count": 22,
     "metadata": {},
     "output_type": "execute_result"
    }
   ],
   "source": [
    "1 == True"
   ]
  },
  {
   "cell_type": "code",
   "execution_count": null,
   "id": "dfa6ff9b-f5a9-4fb2-baec-76bd8650bfd1",
   "metadata": {},
   "outputs": [
    {
     "ename": "TypeError",
     "evalue": "can only concatenate str (not \"int\") to str",
     "output_type": "error",
     "traceback": [
      "\u001b[1;31m---------------------------------------------------------------------------\u001b[0m",
      "\u001b[1;31mTypeError\u001b[0m                                 Traceback (most recent call last)",
      "Cell \u001b[1;32mIn[23], line 2\u001b[0m\n\u001b[0;32m      1\u001b[0m a \u001b[38;5;241m=\u001b[39m \u001b[38;5;124m\"\u001b[39m\u001b[38;5;124mBob\u001b[39m\u001b[38;5;124m\"\u001b[39m\n\u001b[1;32m----> 2\u001b[0m \u001b[43ma\u001b[49m\u001b[43m \u001b[49m\u001b[38;5;241;43m+\u001b[39;49m\u001b[43m \u001b[49m\u001b[38;5;241;43m5\u001b[39;49m\n",
      "\u001b[1;31mTypeError\u001b[0m: can only concatenate str (not \"int\") to str"
     ]
    }
   ],
   "source": [
    "a = \"Bob\"\n",
    "a + 5"
   ]
  },
  {
   "cell_type": "code",
   "execution_count": null,
   "id": "35c4bbd9-4cc1-4a88-96c7-8b8a4f0c18ea",
   "metadata": {},
   "outputs": [
    {
     "data": {
      "text/plain": [
       "'BobBobBobBobBobBobBobBobBobBobBobBobBobBobBobBobBobBobBobBobBobBobBobBobBobBobBobBobBobBobBobBobBobBobBobBobBobBobBobBobBobBobBobBobBobBobBobBobBobBobBobBobBobBobBobBobBobBobBobBobBobBobBobBobBobBobBobBobBobBobBobBobBobBobBobBobBobBobBobBobBobBobBobBobBobBobBobBobBobBobBobBobBobBobBobBobBobBobBobBob'"
      ]
     },
     "execution_count": 24,
     "metadata": {},
     "output_type": "execute_result"
    }
   ],
   "source": [
    "100 * \"Bob\""
   ]
  },
  {
   "cell_type": "code",
   "execution_count": null,
   "id": "52f96b27-91ba-4a87-b1ac-d338e15582d9",
   "metadata": {},
   "outputs": [
    {
     "ename": "TypeError",
     "evalue": "can't multiply sequence by non-int of type 'float'",
     "output_type": "error",
     "traceback": [
      "\u001b[1;31m---------------------------------------------------------------------------\u001b[0m",
      "\u001b[1;31mTypeError\u001b[0m                                 Traceback (most recent call last)",
      "Cell \u001b[1;32mIn[25], line 1\u001b[0m\n\u001b[1;32m----> 1\u001b[0m \u001b[38;5;241;43m5.0\u001b[39;49m\u001b[43m \u001b[49m\u001b[38;5;241;43m*\u001b[39;49m\u001b[43m \u001b[49m\u001b[38;5;124;43m\"\u001b[39;49m\u001b[38;5;124;43mBob\u001b[39;49m\u001b[38;5;124;43m\"\u001b[39;49m\n",
      "\u001b[1;31mTypeError\u001b[0m: can't multiply sequence by non-int of type 'float'"
     ]
    }
   ],
   "source": [
    "5.0 * \"Bob\""
   ]
  },
  {
   "cell_type": "code",
   "execution_count": null,
   "id": "90d64f98-ae3e-4cd3-9226-07b95d7cb51e",
   "metadata": {},
   "outputs": [
    {
     "data": {
      "text/plain": [
       "2.0"
      ]
     },
     "execution_count": 28,
     "metadata": {},
     "output_type": "execute_result"
    }
   ],
   "source": [
    "a = 3.3\n",
    "b = 8.6\n",
    "b // a"
   ]
  },
  {
   "cell_type": "code",
   "execution_count": null,
   "id": "7571a9d7-6ec2-46f1-b6b8-17178c5539f6",
   "metadata": {},
   "outputs": [
    {
     "data": {
      "text/plain": [
       "'Name: Boda'"
      ]
     },
     "execution_count": 29,
     "metadata": {},
     "output_type": "execute_result"
    }
   ],
   "source": [
    "dict = {\"name\": \"Boda\", \"age\": 27}\n",
    "\"Name: {}\".format(dict[\"name\"])"
   ]
  },
  {
   "cell_type": "code",
   "execution_count": null,
   "id": "a34dd21e-d078-4a0e-be26-11580d71aea7",
   "metadata": {},
   "outputs": [
    {
     "data": {
      "text/plain": [
       "(28, 24, 49, 28)"
      ]
     },
     "execution_count": 5,
     "metadata": {},
     "output_type": "execute_result"
    }
   ],
   "source": [
    "import sys\n",
    "\n",
    "(\n",
    "\tsys.getsizeof(int()),\n",
    "\tsys.getsizeof(float()),\n",
    "\tsys.getsizeof(str()),\n",
    "\tsys.getsizeof(bool())\n",
    ")"
   ]
  },
  {
   "cell_type": "code",
   "execution_count": null,
   "id": "4d2b9412",
   "metadata": {},
   "outputs": [
    {
     "data": {
      "text/plain": [
       "36"
      ]
     },
     "execution_count": 7,
     "metadata": {},
     "output_type": "execute_result"
    }
   ],
   "source": [
    "sys.getsizeof(2 ** 64 - 1)"
   ]
  },
  {
   "cell_type": "markdown",
   "id": "06575a6b",
   "metadata": {},
   "source": [
    "## Membership\n",
    "\n",
    "| Operator | Name | Example |\n",
    "| --- | --- | --- |\n",
    "| `in` | In | `a in b` |\n",
    "| `not in` | Not In | `a not in b` |"
   ]
  },
  {
   "cell_type": "code",
   "execution_count": null,
   "id": "ae8946e3",
   "metadata": {},
   "outputs": [
    {
     "data": {
      "text/plain": [
       "'LEEEEEEEEE'"
      ]
     },
     "execution_count": 10,
     "metadata": {},
     "output_type": "execute_result"
    }
   ],
   "source": [
    "input(\"Name: \")"
   ]
  },
  {
   "cell_type": "code",
   "execution_count": null,
   "id": "fd75582b",
   "metadata": {},
   "outputs": [
    {
     "data": {
      "text/plain": [
       "'Olá, Gonçalo! Daqui a 10 anos terás 11 anos.'"
      ]
     },
     "execution_count": 12,
     "metadata": {},
     "output_type": "execute_result"
    }
   ],
   "source": [
    "name = input(\"Qual é o teu nome? \")\n",
    "age = input(\"Qual é a tua idade? \")\n",
    "\n",
    "f\"Olá, {name}! Daqui a 10 anos terás {int(age) + 10} anos.\""
   ]
  },
  {
   "cell_type": "code",
   "execution_count": null,
   "id": "028ecfcf",
   "metadata": {},
   "outputs": [
    {
     "data": {
      "text/plain": [
       "'\\nola\\nisto tem várias linhas\\n'"
      ]
     },
     "execution_count": 14,
     "metadata": {},
     "output_type": "execute_result"
    }
   ],
   "source": [
    "\"\"\"\n",
    "ola\n",
    "isto tem várias linhas\n",
    "\"\"\"\n"
   ]
  },
  {
   "cell_type": "code",
   "execution_count": 2,
   "id": "489294ce",
   "metadata": {},
   "outputs": [
    {
     "name": "stdout",
     "output_type": "stream",
     "text": [
      "a é positivo\n"
     ]
    }
   ],
   "source": [
    "a = 324194238\n",
    "\n",
    "if a >= 0:\n",
    "\tprint(\"a é positivo\")\n",
    "else:\n",
    "\tprint(\"a é negativo\")"
   ]
  },
  {
   "cell_type": "code",
   "execution_count": 4,
   "id": "6d1d2d01",
   "metadata": {},
   "outputs": [
    {
     "name": "stdout",
     "output_type": "stream",
     "text": [
      "Access denied\n"
     ]
    }
   ],
   "source": [
    "secret = 'Mary'\n",
    "\n",
    "password = input(\"Enter your password: \")\n",
    "\n",
    "if password == secret:\n",
    "\tprint(\"Access granted\")\n",
    "else:\n",
    "\tprint(\"Access denied\")"
   ]
  },
  {
   "cell_type": "code",
   "execution_count": 7,
   "id": "5e2447cb",
   "metadata": {},
   "outputs": [
    {
     "name": "stdout",
     "output_type": "stream",
     "text": [
      "You are a super senior\n"
     ]
    }
   ],
   "source": [
    "minor = 18\n",
    "adult = 65\n",
    "senior = 110\n",
    "\n",
    "age = int(input(\"Enter your age: \"))\n",
    "if age < minor:\n",
    "\tprint(\"You are a minor\")\n",
    "elif age < adult:\n",
    "\tprint(\"You are an adult\")\n",
    "elif age < senior:\n",
    "\tprint(\"You are a senior\")\n",
    "else:\n",
    "\tprint(\"You are a super senior\")\n"
   ]
  },
  {
   "cell_type": "code",
   "execution_count": 8,
   "id": "393e0ac6",
   "metadata": {},
   "outputs": [
    {
     "name": "stdout",
     "output_type": "stream",
     "text": [
      "0\n",
      "1\n",
      "2\n",
      "3\n",
      "4\n"
     ]
    }
   ],
   "source": [
    "for i in range(5):\n",
    "\tprint(i)"
   ]
  },
  {
   "cell_type": "code",
   "execution_count": 10,
   "id": "087afe48",
   "metadata": {},
   "outputs": [
    {
     "name": "stdout",
     "output_type": "stream",
     "text": [
      "10\n",
      "12\n",
      "14\n",
      "16\n",
      "18\n"
     ]
    }
   ],
   "source": [
    "for i in range(10, 20, 2):\n",
    "\tprint(i)"
   ]
  },
  {
   "cell_type": "code",
   "execution_count": 9,
   "id": "12fee641",
   "metadata": {},
   "outputs": [
    {
     "name": "stdout",
     "output_type": "stream",
     "text": [
      "20\n",
      "19\n",
      "18\n",
      "17\n",
      "16\n",
      "15\n",
      "14\n",
      "13\n",
      "12\n",
      "11\n"
     ]
    }
   ],
   "source": [
    "for i in range(20, 10, -1):\n",
    "\tprint(i)"
   ]
  },
  {
   "cell_type": "code",
   "execution_count": 12,
   "id": "bb2248a7",
   "metadata": {},
   "outputs": [
    {
     "ename": "ValueError",
     "evalue": "range() arg 3 must not be zero",
     "output_type": "error",
     "traceback": [
      "\u001b[1;31m---------------------------------------------------------------------------\u001b[0m",
      "\u001b[1;31mValueError\u001b[0m                                Traceback (most recent call last)",
      "Cell \u001b[1;32mIn[12], line 1\u001b[0m\n\u001b[1;32m----> 1\u001b[0m \u001b[38;5;28;01mfor\u001b[39;00m i \u001b[38;5;129;01min\u001b[39;00m \u001b[38;5;28;43mrange\u001b[39;49m\u001b[43m(\u001b[49m\u001b[38;5;241;43m10\u001b[39;49m\u001b[43m,\u001b[49m\u001b[43m \u001b[49m\u001b[38;5;241;43m20\u001b[39;49m\u001b[43m,\u001b[49m\u001b[43m \u001b[49m\u001b[38;5;241;43m0\u001b[39;49m\u001b[43m)\u001b[49m:\n\u001b[0;32m      2\u001b[0m \t\u001b[38;5;28mprint\u001b[39m(i)\n",
      "\u001b[1;31mValueError\u001b[0m: range() arg 3 must not be zero"
     ]
    }
   ],
   "source": [
    "for i in range(10, 20, 0):\n",
    "\tprint(i)"
   ]
  },
  {
   "cell_type": "code",
   "execution_count": 13,
   "id": "5e1c69a4",
   "metadata": {},
   "outputs": [],
   "source": [
    "for i in range(10, 20, -1):\n",
    "\tprint(i)"
   ]
  },
  {
   "cell_type": "code",
   "execution_count": 14,
   "id": "cad0f5b0",
   "metadata": {},
   "outputs": [
    {
     "name": "stdout",
     "output_type": "stream",
     "text": [
      "H\n",
      "e\n",
      "l\n",
      "l\n",
      "o\n",
      " \n",
      "W\n",
      "o\n",
      "r\n",
      "l\n",
      "d\n",
      "!\n"
     ]
    }
   ],
   "source": [
    "for c in \"Hello World!\":\n",
    "\tprint(c)"
   ]
  },
  {
   "cell_type": "code",
   "execution_count": 17,
   "id": "cad9c8be",
   "metadata": {},
   "outputs": [
    {
     "data": {
      "text/plain": [
       "'Access granted'"
      ]
     },
     "execution_count": 17,
     "metadata": {},
     "output_type": "execute_result"
    }
   ],
   "source": [
    "login = 'mary_anne'\n",
    "secret = '****'\n",
    "\n",
    "while True:\n",
    "\tuser_login = input(\"Enter your login: \")\n",
    "\tif user_login != login:\n",
    "\t\tcontinue\n",
    "\n",
    "\tuser_secret = input(\"Enter your secret: \")\n",
    "\tif user_secret == secret:\n",
    "\t\tbreak\n",
    "\n",
    "\"Access granted\""
   ]
  },
  {
   "cell_type": "code",
   "execution_count": 16,
   "id": "4590f64b",
   "metadata": {},
   "outputs": [
    {
     "data": {
      "text/plain": [
       "'Maryhadalittlelamb'"
      ]
     },
     "execution_count": 16,
     "metadata": {},
     "output_type": "execute_result"
    }
   ],
   "source": [
    "sentence = 'Mary had a little lamb'\n",
    "new_sentence = ''\n",
    "\n",
    "for i in sentence:\n",
    "\tif i == ' ':\n",
    "\t\tcontinue\n",
    "\n",
    "\tnew_sentence += i\n",
    "\n",
    "new_sentence"
   ]
  },
  {
   "cell_type": "markdown",
   "id": "eee4da19",
   "metadata": {},
   "source": [
    "### Exceptions"
   ]
  },
  {
   "cell_type": "code",
   "execution_count": 20,
   "id": "57982902",
   "metadata": {},
   "outputs": [
    {
     "data": {
      "text/plain": [
       "5.0"
      ]
     },
     "execution_count": 20,
     "metadata": {},
     "output_type": "execute_result"
    }
   ],
   "source": [
    "def divide(a, b):\n",
    "\treturn a / b\n",
    "\n",
    "divide(10, 2)"
   ]
  },
  {
   "cell_type": "code",
   "execution_count": 22,
   "id": "7252640a",
   "metadata": {},
   "outputs": [
    {
     "ename": "ZeroDivisionError",
     "evalue": "division by zero",
     "output_type": "error",
     "traceback": [
      "\u001b[1;31m---------------------------------------------------------------------------\u001b[0m",
      "\u001b[1;31mZeroDivisionError\u001b[0m                         Traceback (most recent call last)",
      "Cell \u001b[1;32mIn[22], line 1\u001b[0m\n\u001b[1;32m----> 1\u001b[0m \u001b[43mdivide\u001b[49m\u001b[43m(\u001b[49m\u001b[38;5;241;43m10\u001b[39;49m\u001b[43m,\u001b[49m\u001b[43m \u001b[49m\u001b[38;5;241;43m0\u001b[39;49m\u001b[43m)\u001b[49m\n",
      "Cell \u001b[1;32mIn[20], line 2\u001b[0m, in \u001b[0;36mdivide\u001b[1;34m(a, b)\u001b[0m\n\u001b[0;32m      1\u001b[0m \u001b[38;5;28;01mdef\u001b[39;00m \u001b[38;5;21mdivide\u001b[39m(a, b):\n\u001b[1;32m----> 2\u001b[0m \t\u001b[38;5;28;01mreturn\u001b[39;00m \u001b[43ma\u001b[49m\u001b[43m \u001b[49m\u001b[38;5;241;43m/\u001b[39;49m\u001b[43m \u001b[49m\u001b[43mb\u001b[49m\n",
      "\u001b[1;31mZeroDivisionError\u001b[0m: division by zero"
     ]
    }
   ],
   "source": [
    "divide(10, 0)"
   ]
  },
  {
   "cell_type": "code",
   "execution_count": 23,
   "id": "2e5ca6bb",
   "metadata": {},
   "outputs": [
    {
     "name": "stdout",
     "output_type": "stream",
     "text": [
      "You can't divide by zero\n"
     ]
    }
   ],
   "source": [
    "try:\n",
    "\tprint(divide(10, 0))\n",
    "except ZeroDivisionError:\n",
    "\tprint(\"You can't divide by zero\")"
   ]
  },
  {
   "cell_type": "code",
   "execution_count": 25,
   "id": "f6b401d9",
   "metadata": {},
   "outputs": [
    {
     "ename": "TypeError",
     "evalue": "unsupported operand type(s) for /: 'str' and 'tuple'",
     "output_type": "error",
     "traceback": [
      "\u001b[1;31m---------------------------------------------------------------------------\u001b[0m",
      "\u001b[1;31mTypeError\u001b[0m                                 Traceback (most recent call last)",
      "Cell \u001b[1;32mIn[25], line 1\u001b[0m\n\u001b[1;32m----> 1\u001b[0m \u001b[38;5;28mprint\u001b[39m(\u001b[43mdivide\u001b[49m\u001b[43m(\u001b[49m\u001b[38;5;124;43m\"\u001b[39;49m\u001b[38;5;124;43mabc\u001b[39;49m\u001b[38;5;124;43m\"\u001b[39;49m\u001b[43m,\u001b[49m\u001b[43m \u001b[49m\u001b[43m(\u001b[49m\u001b[38;5;241;43m0\u001b[39;49m\u001b[43m,\u001b[49m\u001b[43m \u001b[49m\u001b[38;5;241;43m2\u001b[39;49m\u001b[43m)\u001b[49m\u001b[43m)\u001b[49m)\n",
      "Cell \u001b[1;32mIn[20], line 2\u001b[0m, in \u001b[0;36mdivide\u001b[1;34m(a, b)\u001b[0m\n\u001b[0;32m      1\u001b[0m \u001b[38;5;28;01mdef\u001b[39;00m \u001b[38;5;21mdivide\u001b[39m(a, b):\n\u001b[1;32m----> 2\u001b[0m \t\u001b[38;5;28;01mreturn\u001b[39;00m \u001b[43ma\u001b[49m\u001b[43m \u001b[49m\u001b[38;5;241;43m/\u001b[39;49m\u001b[43m \u001b[49m\u001b[43mb\u001b[49m\n",
      "\u001b[1;31mTypeError\u001b[0m: unsupported operand type(s) for /: 'str' and 'tuple'"
     ]
    }
   ],
   "source": [
    "print(divide(\"abc\", (0, 2)))"
   ]
  },
  {
   "cell_type": "code",
   "execution_count": 26,
   "id": "d8174a86",
   "metadata": {},
   "outputs": [
    {
     "name": "stdout",
     "output_type": "stream",
     "text": [
      "Hello, World!\n"
     ]
    }
   ],
   "source": [
    "def hello_world():\n",
    "\tprint(\"Hello, World!\")\n",
    "\n",
    "hello_world()"
   ]
  },
  {
   "cell_type": "code",
   "execution_count": 27,
   "id": "ad54a9ae",
   "metadata": {},
   "outputs": [
    {
     "name": "stdout",
     "output_type": "stream",
     "text": [
      "Hello, Bob!\n"
     ]
    }
   ],
   "source": [
    "def hello(name):\n",
    "\tprint(f\"Hello, {name}!\")\n",
    "\n",
    "hello(\"Bob\")"
   ]
  },
  {
   "cell_type": "code",
   "execution_count": 29,
   "id": "7fc78b9a",
   "metadata": {},
   "outputs": [
    {
     "name": "stdout",
     "output_type": "stream",
     "text": [
      "Hello, Bob!\n"
     ]
    },
    {
     "data": {
      "text/plain": [
       "'x'"
      ]
     },
     "execution_count": 29,
     "metadata": {},
     "output_type": "execute_result"
    }
   ],
   "source": [
    "name = \"x\"\n",
    "hello(name = \"Bob\")\n",
    "\n",
    "name"
   ]
  },
  {
   "cell_type": "markdown",
   "id": "c4ac2016",
   "metadata": {},
   "source": [
    "### Functions\n",
    "\n",
    "<https://docs.python.org/3/library/functions.html>"
   ]
  },
  {
   "cell_type": "markdown",
   "id": "232f3ae6",
   "metadata": {},
   "source": [
    "### Lists"
   ]
  },
  {
   "cell_type": "code",
   "execution_count": 6,
   "id": "f5329013",
   "metadata": {},
   "outputs": [
    {
     "data": {
      "text/plain": [
       "'pencil'"
      ]
     },
     "execution_count": 6,
     "metadata": {},
     "output_type": "execute_result"
    }
   ],
   "source": [
    "pencil_case = [\"pen\", \"pencil\", \"rubber\", \"ruler\"]\n",
    "\n",
    "pencil_case[1]"
   ]
  },
  {
   "cell_type": "code",
   "execution_count": 2,
   "id": "816f96bc",
   "metadata": {},
   "outputs": [
    {
     "ename": "IndexError",
     "evalue": "list index out of range",
     "output_type": "error",
     "traceback": [
      "\u001b[1;31m---------------------------------------------------------------------------\u001b[0m",
      "\u001b[1;31mIndexError\u001b[0m                                Traceback (most recent call last)",
      "Cell \u001b[1;32mIn[2], line 1\u001b[0m\n\u001b[1;32m----> 1\u001b[0m \u001b[43mpencil_case\u001b[49m\u001b[43m[\u001b[49m\u001b[38;5;241;43m4\u001b[39;49m\u001b[43m]\u001b[49m\n",
      "\u001b[1;31mIndexError\u001b[0m: list index out of range"
     ]
    }
   ],
   "source": [
    "pencil_case[4]"
   ]
  },
  {
   "cell_type": "code",
   "execution_count": 3,
   "id": "3759e1b2",
   "metadata": {},
   "outputs": [
    {
     "data": {
      "text/plain": [
       "'ruler'"
      ]
     },
     "execution_count": 3,
     "metadata": {},
     "output_type": "execute_result"
    }
   ],
   "source": [
    "pencil_case[-1]"
   ]
  },
  {
   "cell_type": "code",
   "execution_count": 4,
   "id": "ab45c039",
   "metadata": {},
   "outputs": [
    {
     "data": {
      "text/plain": [
       "['pencil', 'rubber']"
      ]
     },
     "execution_count": 4,
     "metadata": {},
     "output_type": "execute_result"
    }
   ],
   "source": [
    "pencil_case[1:3]"
   ]
  },
  {
   "cell_type": "code",
   "execution_count": 9,
   "id": "4f71a853",
   "metadata": {},
   "outputs": [
    {
     "data": {
      "text/plain": [
       "['pencil', 'rubber', 'ruler']"
      ]
     },
     "execution_count": 9,
     "metadata": {},
     "output_type": "execute_result"
    }
   ],
   "source": [
    "pencil_case[1:4]"
   ]
  },
  {
   "cell_type": "code",
   "execution_count": 10,
   "id": "3f8a156f",
   "metadata": {},
   "outputs": [
    {
     "data": {
      "text/plain": [
       "['pen', 'pencil', 'rubber', 'ruler']"
      ]
     },
     "execution_count": 10,
     "metadata": {},
     "output_type": "execute_result"
    }
   ],
   "source": [
    "pencil_case[0:10]"
   ]
  },
  {
   "cell_type": "code",
   "execution_count": 11,
   "id": "1840c68d",
   "metadata": {},
   "outputs": [
    {
     "data": {
      "text/plain": [
       "['pen', 'pencil', 'rubber']"
      ]
     },
     "execution_count": 11,
     "metadata": {},
     "output_type": "execute_result"
    }
   ],
   "source": [
    "pencil_case[0:-1]"
   ]
  },
  {
   "cell_type": "code",
   "execution_count": 15,
   "id": "6ed43f46",
   "metadata": {},
   "outputs": [
    {
     "data": {
      "text/plain": [
       "['ruler']"
      ]
     },
     "execution_count": 15,
     "metadata": {},
     "output_type": "execute_result"
    }
   ],
   "source": [
    "pencil_case[3:]"
   ]
  },
  {
   "cell_type": "code",
   "execution_count": 17,
   "id": "10020cc6",
   "metadata": {},
   "outputs": [
    {
     "data": {
      "text/plain": [
       "[]"
      ]
     },
     "execution_count": 17,
     "metadata": {},
     "output_type": "execute_result"
    }
   ],
   "source": [
    "pencil_case[-1:3]"
   ]
  },
  {
   "cell_type": "code",
   "execution_count": 18,
   "id": "c7dba283",
   "metadata": {},
   "outputs": [
    {
     "data": {
      "text/plain": [
       "['pen', 'pencil']"
      ]
     },
     "execution_count": 18,
     "metadata": {},
     "output_type": "execute_result"
    }
   ],
   "source": [
    "pencil_case[:2]"
   ]
  },
  {
   "cell_type": "code",
   "execution_count": 19,
   "id": "2f409374",
   "metadata": {},
   "outputs": [
    {
     "data": {
      "text/plain": [
       "['pencil', 'rubber', 'ruler']"
      ]
     },
     "execution_count": 19,
     "metadata": {},
     "output_type": "execute_result"
    }
   ],
   "source": [
    "pencil_case[1:]"
   ]
  },
  {
   "cell_type": "code",
   "execution_count": 20,
   "id": "ebe4fe55",
   "metadata": {},
   "outputs": [
    {
     "data": {
      "text/plain": [
       "['pen', 'pencil', 'rubber', 'ruler']"
      ]
     },
     "execution_count": 20,
     "metadata": {},
     "output_type": "execute_result"
    }
   ],
   "source": [
    "pencil_case[:]"
   ]
  },
  {
   "cell_type": "code",
   "execution_count": 21,
   "id": "e8a17420",
   "metadata": {},
   "outputs": [],
   "source": [
    "mixed_list = [[1,2,3], ['Alice', 'Bob']]"
   ]
  },
  {
   "cell_type": "code",
   "execution_count": 27,
   "id": "bf74f75a",
   "metadata": {},
   "outputs": [
    {
     "data": {
      "text/plain": [
       "['pen', 0, 'rubber', 'ruler']"
      ]
     },
     "execution_count": 27,
     "metadata": {},
     "output_type": "execute_result"
    }
   ],
   "source": [
    "pencil_case[1] = 0\n",
    "pencil_case"
   ]
  },
  {
   "cell_type": "code",
   "execution_count": 28,
   "id": "3f414a07",
   "metadata": {},
   "outputs": [
    {
     "data": {
      "text/plain": [
       "4"
      ]
     },
     "execution_count": 28,
     "metadata": {},
     "output_type": "execute_result"
    }
   ],
   "source": [
    "len(pencil_case)"
   ]
  },
  {
   "cell_type": "code",
   "execution_count": 29,
   "id": "c837f28e",
   "metadata": {},
   "outputs": [
    {
     "data": {
      "text/plain": [
       "[[1, 2, 3], ['Alice', 'Alice']]"
      ]
     },
     "execution_count": 29,
     "metadata": {},
     "output_type": "execute_result"
    }
   ],
   "source": [
    "mixed_list[1][1] = mixed_list[1][0]\n",
    "mixed_list"
   ]
  },
  {
   "cell_type": "code",
   "execution_count": 31,
   "id": "b4479f78",
   "metadata": {},
   "outputs": [],
   "source": [
    "names = [\"Alice\", \"Bob\", \"Charlie\", \"David\", \"Eve\"]"
   ]
  },
  {
   "cell_type": "code",
   "execution_count": 32,
   "id": "42acb16e",
   "metadata": {},
   "outputs": [
    {
     "data": {
      "text/plain": [
       "True"
      ]
     },
     "execution_count": 32,
     "metadata": {},
     "output_type": "execute_result"
    }
   ],
   "source": [
    "'Bob' in names"
   ]
  },
  {
   "cell_type": "code",
   "execution_count": 33,
   "id": "d276d9e6",
   "metadata": {},
   "outputs": [
    {
     "data": {
      "text/plain": [
       "False"
      ]
     },
     "execution_count": 33,
     "metadata": {},
     "output_type": "execute_result"
    }
   ],
   "source": [
    "'Bob' not in names"
   ]
  },
  {
   "cell_type": "markdown",
   "id": "dbe24d6f",
   "metadata": {},
   "source": [
    "### Exercise\n",
    "\n",
    "Ask for names of friends infinitely, until you type `exit`. Then print the list of names."
   ]
  },
  {
   "cell_type": "code",
   "execution_count": 34,
   "id": "43b3edf9",
   "metadata": {},
   "outputs": [
    {
     "data": {
      "text/plain": [
       "['Alice', 'Bob', 'Toze']"
      ]
     },
     "execution_count": 34,
     "metadata": {},
     "output_type": "execute_result"
    }
   ],
   "source": [
    "friend_names = []\n",
    "\n",
    "while True:\n",
    "\tname = input(\"Enter a name: \")\n",
    "\tif name == \"exit\":\n",
    "\t\tbreak\n",
    "\n",
    "\tfriend_names.append(name)\n",
    "\n",
    "friend_names"
   ]
  },
  {
   "cell_type": "code",
   "execution_count": 35,
   "id": "a74d29f8",
   "metadata": {},
   "outputs": [],
   "source": [
    "fruits = [\"apple\", \"banana\", \"cherry\", \"pear\", \"orange\"]"
   ]
  },
  {
   "cell_type": "code",
   "execution_count": 36,
   "id": "831e6bb3",
   "metadata": {},
   "outputs": [
    {
     "data": {
      "text/plain": [
       "1"
      ]
     },
     "execution_count": 36,
     "metadata": {},
     "output_type": "execute_result"
    }
   ],
   "source": [
    "fruits.index(\"banana\")"
   ]
  },
  {
   "cell_type": "code",
   "execution_count": 37,
   "id": "0d2c0079",
   "metadata": {},
   "outputs": [
    {
     "data": {
      "text/plain": [
       "['apple', 'banana', 'cherry', 'pear', 'orange', 'kiwi']"
      ]
     },
     "execution_count": 37,
     "metadata": {},
     "output_type": "execute_result"
    }
   ],
   "source": [
    "fruits.append(\"kiwi\")\n",
    "fruits"
   ]
  },
  {
   "cell_type": "code",
   "execution_count": 38,
   "id": "a505f072",
   "metadata": {},
   "outputs": [
    {
     "data": {
      "text/plain": [
       "['apple', 'banana', 'grape', 'cherry', 'pear', 'orange', 'kiwi']"
      ]
     },
     "execution_count": 38,
     "metadata": {},
     "output_type": "execute_result"
    }
   ],
   "source": [
    "fruits.insert(2, \"grape\")\n",
    "fruits"
   ]
  },
  {
   "cell_type": "code",
   "execution_count": 41,
   "id": "b0d6224c",
   "metadata": {},
   "outputs": [
    {
     "data": {
      "text/plain": [
       "['apple', 'banana', 'cherry', 'grape', 'kiwi', 'orange', 'pear']"
      ]
     },
     "execution_count": 41,
     "metadata": {},
     "output_type": "execute_result"
    }
   ],
   "source": [
    "fruits.sort()\n",
    "fruits"
   ]
  },
  {
   "cell_type": "code",
   "execution_count": 42,
   "id": "88a51a9a",
   "metadata": {},
   "outputs": [
    {
     "data": {
      "text/plain": [
       "['pear', 'orange', 'kiwi', 'grape', 'cherry', 'banana', 'apple']"
      ]
     },
     "execution_count": 42,
     "metadata": {},
     "output_type": "execute_result"
    }
   ],
   "source": [
    "fruits.reverse()\n",
    "fruits"
   ]
  },
  {
   "cell_type": "code",
   "execution_count": 45,
   "id": "c9c26017",
   "metadata": {},
   "outputs": [
    {
     "data": {
      "text/plain": [
       "['pear', 'orange', 'kiwi', 'grape', 'cherry', 'apple']"
      ]
     },
     "execution_count": 45,
     "metadata": {},
     "output_type": "execute_result"
    }
   ],
   "source": [
    "fruits.append(\"banana\")\n",
    "fruits.remove(\"banana\")\n",
    "fruits"
   ]
  },
  {
   "cell_type": "code",
   "execution_count": 46,
   "id": "0b1ba597",
   "metadata": {},
   "outputs": [
    {
     "ename": "ValueError",
     "evalue": "list.remove(x): x not in list",
     "output_type": "error",
     "traceback": [
      "\u001b[1;31m---------------------------------------------------------------------------\u001b[0m",
      "\u001b[1;31mValueError\u001b[0m                                Traceback (most recent call last)",
      "Cell \u001b[1;32mIn[46], line 1\u001b[0m\n\u001b[1;32m----> 1\u001b[0m \u001b[43mfruits\u001b[49m\u001b[38;5;241;43m.\u001b[39;49m\u001b[43mremove\u001b[49m\u001b[43m(\u001b[49m\u001b[38;5;124;43m\"\u001b[39;49m\u001b[38;5;124;43myeet\u001b[39;49m\u001b[38;5;124;43m\"\u001b[39;49m\u001b[43m)\u001b[49m\n",
      "\u001b[1;31mValueError\u001b[0m: list.remove(x): x not in list"
     ]
    }
   ],
   "source": [
    "fruits.remove(\"yeet\")"
   ]
  },
  {
   "cell_type": "code",
   "execution_count": 47,
   "id": "63579ec3",
   "metadata": {},
   "outputs": [
    {
     "data": {
      "text/plain": [
       "'apple'"
      ]
     },
     "execution_count": 47,
     "metadata": {},
     "output_type": "execute_result"
    }
   ],
   "source": [
    "fruits.pop()"
   ]
  },
  {
   "cell_type": "code",
   "execution_count": 48,
   "id": "8ae19338",
   "metadata": {},
   "outputs": [
    {
     "data": {
      "text/plain": [
       "True"
      ]
     },
     "execution_count": 48,
     "metadata": {},
     "output_type": "execute_result"
    }
   ],
   "source": [
    "# Equality between lists\n",
    "\n",
    "a = [1, 2, 3]\n",
    "b = [1, 2, 3]\n",
    "\n",
    "a == b"
   ]
  },
  {
   "cell_type": "code",
   "execution_count": 49,
   "id": "5047a470",
   "metadata": {},
   "outputs": [
    {
     "data": {
      "text/plain": [
       "False"
      ]
     },
     "execution_count": 49,
     "metadata": {},
     "output_type": "execute_result"
    }
   ],
   "source": [
    "a is b"
   ]
  },
  {
   "cell_type": "code",
   "execution_count": 50,
   "id": "defb924e",
   "metadata": {},
   "outputs": [
    {
     "name": "stdout",
     "output_type": "stream",
     "text": [
      "Numbers: [1, [5, 6], [9, 10]]\n",
      "New list: [1, [5, 6], [9, 10]]\n"
     ]
    }
   ],
   "source": [
    "numbers = [1, [5, 6], [9, 10]]\n",
    "\n",
    "import copy\n",
    "new_list = copy.copy(numbers)\n",
    "\n",
    "print('Numbers: {}'.format(numbers))\n",
    "print('New list: {}'.format(new_list))"
   ]
  },
  {
   "cell_type": "code",
   "execution_count": 51,
   "id": "06ffcce1",
   "metadata": {},
   "outputs": [
    {
     "name": "stdout",
     "output_type": "stream",
     "text": [
      "Numbers: [1, [5, 6], [9, 10], [13, 14]]\n",
      "New list: [1, [5, 6], [9, 10]]\n"
     ]
    }
   ],
   "source": [
    "numbers.append([13, 14])\n",
    "print('Numbers: {}'.format(numbers))\n",
    "print('New list: {}'.format(new_list))"
   ]
  }
 ],
 "metadata": {
  "kernelspec": {
   "display_name": "Python 3 (ipykernel)",
   "language": "python",
   "name": "python3"
  },
  "language_info": {
   "codemirror_mode": {
    "name": "ipython",
    "version": 3
   },
   "file_extension": ".py",
   "mimetype": "text/x-python",
   "name": "python",
   "nbconvert_exporter": "python",
   "pygments_lexer": "ipython3",
   "version": "3.11.8"
  }
 },
 "nbformat": 4,
 "nbformat_minor": 5
}
