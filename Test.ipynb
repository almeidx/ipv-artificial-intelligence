{
 "cells": [
  {
   "cell_type": "markdown",
   "id": "b2282b3c-3f76-4d02-94aa-635a27503e41",
   "metadata": {},
   "source": [
    "# Introduction to Jupyter Notebooks"
   ]
  },
  {
   "cell_type": "code",
   "execution_count": 15,
   "id": "9bdd0b6f-4009-4ce2-b59e-b1cb922e7c6b",
   "metadata": {},
   "outputs": [
    {
     "name": "stdout",
     "output_type": "stream",
     "text": [
      "Hello, World!\n"
     ]
    }
   ],
   "source": [
    "print('Hello, World!')"
   ]
  },
  {
   "cell_type": "code",
   "execution_count": 16,
   "id": "9f8c71cc-340d-4b70-9bd3-63ef499a74d2",
   "metadata": {},
   "outputs": [
    {
     "data": {
      "text/plain": [
       "'a = 123'"
      ]
     },
     "execution_count": 16,
     "metadata": {},
     "output_type": "execute_result"
    }
   ],
   "source": [
    "a = 123\n",
    "f\"a = {a}\""
   ]
  },
  {
   "cell_type": "code",
   "execution_count": 17,
   "id": "98764bf3-cfde-440d-8ac9-6a5fef340461",
   "metadata": {},
   "outputs": [
    {
     "ename": "TypeError",
     "evalue": "'str' object is not callable",
     "output_type": "error",
     "traceback": [
      "\u001b[1;31m---------------------------------------------------------------------------\u001b[0m",
      "\u001b[1;31mTypeError\u001b[0m                                 Traceback (most recent call last)",
      "Cell \u001b[1;32mIn[17], line 2\u001b[0m\n\u001b[0;32m      1\u001b[0m a \u001b[38;5;241m=\u001b[39m \u001b[38;5;241m123\u001b[39m\n\u001b[1;32m----> 2\u001b[0m \u001b[38;5;124m\"\u001b[39m\u001b[38;5;124ma = \u001b[39m\u001b[38;5;124m\"\u001b[39m \u001b[38;5;241m+\u001b[39m \u001b[38;5;28;43mstr\u001b[39;49m\u001b[43m(\u001b[49m\u001b[43ma\u001b[49m\u001b[43m)\u001b[49m\n",
      "\u001b[1;31mTypeError\u001b[0m: 'str' object is not callable"
     ]
    }
   ],
   "source": [
    "a = 123\n",
    "\"a = \" + str(a)"
   ]
  },
  {
   "cell_type": "code",
   "execution_count": null,
   "id": "e11029fb-e61f-42d9-90c5-1c6824ba0209",
   "metadata": {},
   "outputs": [
    {
     "data": {
      "text/plain": [
       "str"
      ]
     },
     "execution_count": 12,
     "metadata": {},
     "output_type": "execute_result"
    }
   ],
   "source": [
    "type(\"abc\")"
   ]
  },
  {
   "cell_type": "code",
   "execution_count": null,
   "id": "cfce4271-9510-4f91-bb59-c7baa9381781",
   "metadata": {},
   "outputs": [
    {
     "data": {
      "text/plain": [
       "(5.2, 'olá', ('1',))"
      ]
     },
     "execution_count": 16,
     "metadata": {},
     "output_type": "execute_result"
    }
   ],
   "source": [
    "a, b, c = 5.2, \"olá\", (\"1\", )\n",
    "a, b, c"
   ]
  },
  {
   "cell_type": "code",
   "execution_count": null,
   "id": "d1b7b075-d7a9-468f-aad9-2f3f98bdd50c",
   "metadata": {},
   "outputs": [
    {
     "data": {
      "text/plain": [
       "True"
      ]
     },
     "execution_count": 18,
     "metadata": {},
     "output_type": "execute_result"
    }
   ],
   "source": [
    "a = 7\n",
    "b = 7.0\n",
    "a == b"
   ]
  },
  {
   "cell_type": "code",
   "execution_count": null,
   "id": "cd12ca1b-a125-4fcd-a089-3e974a0566af",
   "metadata": {
    "scrolled": true
   },
   "outputs": [
    {
     "data": {
      "text/plain": [
       "True"
      ]
     },
     "execution_count": 22,
     "metadata": {},
     "output_type": "execute_result"
    }
   ],
   "source": [
    "1 == True"
   ]
  },
  {
   "cell_type": "code",
   "execution_count": null,
   "id": "dfa6ff9b-f5a9-4fb2-baec-76bd8650bfd1",
   "metadata": {},
   "outputs": [
    {
     "ename": "TypeError",
     "evalue": "can only concatenate str (not \"int\") to str",
     "output_type": "error",
     "traceback": [
      "\u001b[1;31m---------------------------------------------------------------------------\u001b[0m",
      "\u001b[1;31mTypeError\u001b[0m                                 Traceback (most recent call last)",
      "Cell \u001b[1;32mIn[23], line 2\u001b[0m\n\u001b[0;32m      1\u001b[0m a \u001b[38;5;241m=\u001b[39m \u001b[38;5;124m\"\u001b[39m\u001b[38;5;124mBob\u001b[39m\u001b[38;5;124m\"\u001b[39m\n\u001b[1;32m----> 2\u001b[0m \u001b[43ma\u001b[49m\u001b[43m \u001b[49m\u001b[38;5;241;43m+\u001b[39;49m\u001b[43m \u001b[49m\u001b[38;5;241;43m5\u001b[39;49m\n",
      "\u001b[1;31mTypeError\u001b[0m: can only concatenate str (not \"int\") to str"
     ]
    }
   ],
   "source": [
    "a = \"Bob\"\n",
    "a + 5"
   ]
  },
  {
   "cell_type": "code",
   "execution_count": null,
   "id": "35c4bbd9-4cc1-4a88-96c7-8b8a4f0c18ea",
   "metadata": {},
   "outputs": [
    {
     "data": {
      "text/plain": [
       "'BobBobBobBobBobBobBobBobBobBobBobBobBobBobBobBobBobBobBobBobBobBobBobBobBobBobBobBobBobBobBobBobBobBobBobBobBobBobBobBobBobBobBobBobBobBobBobBobBobBobBobBobBobBobBobBobBobBobBobBobBobBobBobBobBobBobBobBobBobBobBobBobBobBobBobBobBobBobBobBobBobBobBobBobBobBobBobBobBobBobBobBobBobBobBobBobBobBobBobBob'"
      ]
     },
     "execution_count": 24,
     "metadata": {},
     "output_type": "execute_result"
    }
   ],
   "source": [
    "100 * \"Bob\""
   ]
  },
  {
   "cell_type": "code",
   "execution_count": null,
   "id": "52f96b27-91ba-4a87-b1ac-d338e15582d9",
   "metadata": {},
   "outputs": [
    {
     "ename": "TypeError",
     "evalue": "can't multiply sequence by non-int of type 'float'",
     "output_type": "error",
     "traceback": [
      "\u001b[1;31m---------------------------------------------------------------------------\u001b[0m",
      "\u001b[1;31mTypeError\u001b[0m                                 Traceback (most recent call last)",
      "Cell \u001b[1;32mIn[25], line 1\u001b[0m\n\u001b[1;32m----> 1\u001b[0m \u001b[38;5;241;43m5.0\u001b[39;49m\u001b[43m \u001b[49m\u001b[38;5;241;43m*\u001b[39;49m\u001b[43m \u001b[49m\u001b[38;5;124;43m\"\u001b[39;49m\u001b[38;5;124;43mBob\u001b[39;49m\u001b[38;5;124;43m\"\u001b[39;49m\n",
      "\u001b[1;31mTypeError\u001b[0m: can't multiply sequence by non-int of type 'float'"
     ]
    }
   ],
   "source": [
    "5.0 * \"Bob\""
   ]
  },
  {
   "cell_type": "code",
   "execution_count": null,
   "id": "90d64f98-ae3e-4cd3-9226-07b95d7cb51e",
   "metadata": {},
   "outputs": [
    {
     "data": {
      "text/plain": [
       "2.0"
      ]
     },
     "execution_count": 28,
     "metadata": {},
     "output_type": "execute_result"
    }
   ],
   "source": [
    "a = 3.3\n",
    "b = 8.6\n",
    "b // a"
   ]
  },
  {
   "cell_type": "code",
   "execution_count": null,
   "id": "7571a9d7-6ec2-46f1-b6b8-17178c5539f6",
   "metadata": {},
   "outputs": [
    {
     "data": {
      "text/plain": [
       "'Name: Boda'"
      ]
     },
     "execution_count": 29,
     "metadata": {},
     "output_type": "execute_result"
    }
   ],
   "source": [
    "dict = {\"name\": \"Boda\", \"age\": 27}\n",
    "\"Name: {}\".format(dict[\"name\"])"
   ]
  },
  {
   "cell_type": "code",
   "execution_count": null,
   "id": "a34dd21e-d078-4a0e-be26-11580d71aea7",
   "metadata": {},
   "outputs": [
    {
     "data": {
      "text/plain": [
       "(28, 24, 49, 28)"
      ]
     },
     "execution_count": 5,
     "metadata": {},
     "output_type": "execute_result"
    }
   ],
   "source": [
    "import sys\n",
    "\n",
    "(\n",
    "\tsys.getsizeof(int()),\n",
    "\tsys.getsizeof(float()),\n",
    "\tsys.getsizeof(str()),\n",
    "\tsys.getsizeof(bool())\n",
    ")"
   ]
  },
  {
   "cell_type": "code",
   "execution_count": null,
   "id": "4d2b9412",
   "metadata": {},
   "outputs": [
    {
     "data": {
      "text/plain": [
       "36"
      ]
     },
     "execution_count": 7,
     "metadata": {},
     "output_type": "execute_result"
    }
   ],
   "source": [
    "sys.getsizeof(2 ** 64 - 1)"
   ]
  },
  {
   "cell_type": "markdown",
   "id": "06575a6b",
   "metadata": {},
   "source": [
    "## Membership\n",
    "\n",
    "| Operator | Name | Example |\n",
    "| --- | --- | --- |\n",
    "| `in` | In | `a in b` |\n",
    "| `not in` | Not In | `a not in b` |"
   ]
  },
  {
   "cell_type": "code",
   "execution_count": null,
   "id": "ae8946e3",
   "metadata": {},
   "outputs": [
    {
     "data": {
      "text/plain": [
       "'LEEEEEEEEE'"
      ]
     },
     "execution_count": 10,
     "metadata": {},
     "output_type": "execute_result"
    }
   ],
   "source": [
    "input(\"Name: \")"
   ]
  },
  {
   "cell_type": "code",
   "execution_count": null,
   "id": "fd75582b",
   "metadata": {},
   "outputs": [
    {
     "data": {
      "text/plain": [
       "'Olá, Gonçalo! Daqui a 10 anos terás 11 anos.'"
      ]
     },
     "execution_count": 12,
     "metadata": {},
     "output_type": "execute_result"
    }
   ],
   "source": [
    "name = input(\"Qual é o teu nome? \")\n",
    "age = input(\"Qual é a tua idade? \")\n",
    "\n",
    "f\"Olá, {name}! Daqui a 10 anos terás {int(age) + 10} anos.\""
   ]
  },
  {
   "cell_type": "code",
   "execution_count": null,
   "id": "028ecfcf",
   "metadata": {},
   "outputs": [
    {
     "data": {
      "text/plain": [
       "'\\nola\\nisto tem várias linhas\\n'"
      ]
     },
     "execution_count": 14,
     "metadata": {},
     "output_type": "execute_result"
    }
   ],
   "source": [
    "\"\"\"\n",
    "ola\n",
    "isto tem várias linhas\n",
    "\"\"\"\n"
   ]
  }
 ],
 "metadata": {
  "kernelspec": {
   "display_name": "Python 3 (ipykernel)",
   "language": "python",
   "name": "python3"
  },
  "language_info": {
   "codemirror_mode": {
    "name": "ipython",
    "version": 3
   },
   "file_extension": ".py",
   "mimetype": "text/x-python",
   "name": "python",
   "nbconvert_exporter": "python",
   "pygments_lexer": "ipython3",
   "version": "3.11.8"
  }
 },
 "nbformat": 4,
 "nbformat_minor": 5
}
